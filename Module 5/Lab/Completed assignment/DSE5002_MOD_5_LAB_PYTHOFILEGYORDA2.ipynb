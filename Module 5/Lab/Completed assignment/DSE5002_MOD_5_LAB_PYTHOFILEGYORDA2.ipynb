{
 "cells": [
  {
   "cell_type": "markdown",
   "id": "dfd828e3-8952-464f-a0f7-15388cba3bad",
   "metadata": {},
   "source": [
    "# Python Function Created in Spyder\n",
    "\n",
    "DSE5002 Module 5 LAB \n",
    "\n",
    "Peter Gyorda\n",
    "April 19, 2025\n",
    "\n",
    "Python:,   Function created in Spyder\n",
    "\n",
    "The file browser implemented in the \"files in Python\" notebook is a handy tool.   Create a file in python that holds a function called \"file_choose\" that creates the file browser and then returns the file path the user selects.  This should be in it's own .py file, with no other content.   Then import this file into a Jupyter notebook and show that you can call \"file_choose\" and then open the selected file.  Print out the first line of the file on the screen.\n"
   ]
  },
  {
   "cell_type": "code",
   "execution_count": 3,
   "id": "e4e710a3-941d-4adb-815c-59bdc423f3bc",
   "metadata": {},
   "outputs": [],
   "source": [
    "import pandas as pd"
   ]
  },
  {
   "cell_type": "code",
   "execution_count": 13,
   "id": "4b402394-fbc1-477d-b077-11e7be84edb9",
   "metadata": {},
   "outputs": [
    {
     "name": "stdout",
     "output_type": "stream",
     "text": [
      "You selected: C:/Users/petea/OneDrive/Desktop/Pete/Personal files/Masters degree/Courses/Course 2 - DSE5002/Module 5/Lab/working files/file_choose.py\n",
      "The first line of the file is: '# -*- coding: utf-8 -*-'\n"
     ]
    }
   ],
   "source": [
    "\n",
    "from tkinter import filedialog\n",
    "import tkinter as tk\n",
    "\n",
    "def file_choose():\n",
    "    root = tk.Tk()\n",
    "    root.withdraw()  # Hide the main window\n",
    "    file_path = filedialog.askopenfilename()  # Show the file dialog\n",
    "    return file_path\n",
    "\n",
    "# Now use the function\n",
    "selected_file_path = file_choose()\n",
    "\n",
    "if selected_file_path:\n",
    "    print(f\"You selected: {selected_file_path}\")\n",
    "    try:\n",
    "        with open(selected_file_path, 'r') as file:\n",
    "            first_line = file.readline().strip()\n",
    "            print(f\"The first line of the file is: '{first_line}'\")\n",
    "    except FileNotFoundError:\n",
    "        print(f\"Error: The file '{selected_file_path}' was not found.\")\n",
    "    except Exception as e:\n",
    "        print(f\"An error occurred while reading the file: {e}\")\n",
    "else:\n",
    "    print(\"No file was selected.\")"
   ]
  },
  {
   "cell_type": "code",
   "execution_count": null,
   "id": "5a7c5a2c-beb9-4f4a-bcb1-33f004f89d09",
   "metadata": {},
   "outputs": [],
   "source": []
  }
 ],
 "metadata": {
  "kernelspec": {
   "display_name": "Python [conda env:base] *",
   "language": "python",
   "name": "conda-base-py"
  },
  "language_info": {
   "codemirror_mode": {
    "name": "ipython",
    "version": 3
   },
   "file_extension": ".py",
   "mimetype": "text/x-python",
   "name": "python",
   "nbconvert_exporter": "python",
   "pygments_lexer": "ipython3",
   "version": "3.12.7"
  }
 },
 "nbformat": 4,
 "nbformat_minor": 5
}
