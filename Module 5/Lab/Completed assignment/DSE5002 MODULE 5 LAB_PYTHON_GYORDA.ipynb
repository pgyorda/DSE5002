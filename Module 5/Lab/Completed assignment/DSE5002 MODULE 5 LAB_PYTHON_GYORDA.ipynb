{
 "cells": [
  {
   "cell_type": "markdown",
   "id": "60865f02-8302-4d88-864b-d1bb654ebe13",
   "metadata": {},
   "source": [
    "# DSE5002 MODULE 5 LAB\n",
    "\n",
    "\n",
    "Peter Gyorda \n",
    "April 19, 2025\n",
    "\n",
    "From Think Python,   Chapter 10,  \n",
    "\n",
    "10.11.2, 10.11.4\n",
    "\n"
   ]
  },
  {
   "cell_type": "code",
   "execution_count": 3,
   "id": "cdea4bc8-2eb1-45ae-b86c-f219faa22127",
   "metadata": {},
   "outputs": [],
   "source": [
    "10.11.2. Exercise\n",
    "Use get to write a more concise version of value_counts. You should be able to eliminate the if statement."
   ]
  },
  {
   "cell_type": "code",
   "execution_count": 3,
   "id": "41c44b06-b7eb-4da7-ba10-6704417f5548",
   "metadata": {},
   "outputs": [
    {
     "name": "stdout",
     "output_type": "stream",
     "text": [
      "{'b': 1, 'r': 2, 'o': 2, 'n': 1, 't': 1, 's': 2, 'a': 1, 'u': 2}\n"
     ]
    }
   ],
   "source": [
    "def value_counts_concise(s):\n",
    "    counts = {}\n",
    "    for char in s:\n",
    "        counts[char] = counts.get(char, 0) + 1\n",
    "    return counts\n",
    "\n",
    "# Let's test it out\n",
    "result = value_counts_concise('brontosaurus')\n",
    "print(result)"
   ]
  },
  {
   "cell_type": "code",
   "execution_count": null,
   "id": "d765eb93-773f-47ed-8f64-b8f90797bd98",
   "metadata": {},
   "outputs": [],
   "source": [
    "Exercise 10.11.4\n",
    "10.11.4. Exercise\n",
    "Write function called find_repeats that takes a dictionary that maps from each key to a counter, like the result from value_counts. It should loop through the dictionary and return a list of keys that have counts greater than 1. You can use the following outline to get started."
   ]
  },
  {
   "cell_type": "code",
   "execution_count": 5,
   "id": "b2b674f6-78b9-431e-be92-d975fbe7c28a",
   "metadata": {},
   "outputs": [
    {
     "name": "stdout",
     "output_type": "stream",
     "text": [
      "Counts of each letter: {'b': 1, 'r': 2, 'o': 2, 'n': 1, 't': 1, 's': 2, 'a': 1, 'u': 2}\n",
      "Letters that appear more than once: ['r', 'o', 's', 'u']\n"
     ]
    }
   ],
   "source": [
    "def find_repeats(counter):\n",
    "    \"\"\"Makes a list of keys with values greater than 1.\n",
    "        counter: dictionary that maps from keys to counts\n",
    "        returns: list of keys\n",
    "    \"\"\"\n",
    "    repeated_keys = []\n",
    "    for key, count in counter.items():\n",
    "        if count > 1:\n",
    "            repeated_keys.append(key)\n",
    "    return repeated_keys\n",
    "\n",
    "# Let's test it with the output from our value_counts function\n",
    "word_counts = value_counts_concise('brontosaurus')\n",
    "repeated = find_repeats(word_counts)\n",
    "print(f\"Counts of each letter: {word_counts}\")\n",
    "print(f\"Letters that appear more than once: {repeated}\")"
   ]
  },
  {
   "cell_type": "code",
   "execution_count": null,
   "id": "0384e79b-3daf-47be-befd-b01124948dae",
   "metadata": {},
   "outputs": [],
   "source": []
  }
 ],
 "metadata": {
  "kernelspec": {
   "display_name": "Python [conda env:base] *",
   "language": "python",
   "name": "conda-base-py"
  },
  "language_info": {
   "codemirror_mode": {
    "name": "ipython",
    "version": 3
   },
   "file_extension": ".py",
   "mimetype": "text/x-python",
   "name": "python",
   "nbconvert_exporter": "python",
   "pygments_lexer": "ipython3",
   "version": "3.12.7"
  }
 },
 "nbformat": 4,
 "nbformat_minor": 5
}
