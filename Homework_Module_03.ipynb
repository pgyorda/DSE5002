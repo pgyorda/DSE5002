{
 "cells": [
  {
   "cell_type": "markdown",
   "id": "549c8689-9196-4273-baa0-2534727d0d5a",
   "metadata": {},
   "source": [
    "# Homework/Lab 3,   DSE5002\n",
    "\n",
    "Created 2/11/2025\n",
    "\n",
    "See\n",
    "\n",
    "Think Python\n",
    "https://allendowney.github.io/ThinkPython/chap05.html\n"
   ]
  },
  {
   "cell_type": "markdown",
   "id": "b01363f7-3f85-4d7f-a32c-d1c29c49f5af",
   "metadata": {},
   "source": [
    "# 5.14.1. Ask a virtual assistant\n",
    "\n",
    "Ask a virtual assistant, “What are some uses of the modulus operator?”\n",
    "\n"
   ]
  },
  {
   "cell_type": "code",
   "execution_count": null,
   "id": "0d431616-e315-4eef-8b7c-ec8d491bdeb8",
   "metadata": {},
   "outputs": [],
   "source": []
  },
  {
   "cell_type": "markdown",
   "id": "99fff044-a8fe-426a-8aff-a57a53059b6a",
   "metadata": {},
   "source": [
    "In this chapter, we saw two ways to write an if statement with three branches, using a chained conditional or a nested conditional. You can use a virtual assistant to convert from one to the other. For example, ask a VA, “Convert this statement to a chained conditional.”\n",
    "\n",
    "if x == y:\n",
    "    print('x and y are equal')\n",
    "else:\n",
    "    if x < y:\n",
    "        print('x is less than y')\n",
    "    else:\n",
    "        print('x is greater than y')\n",
    "\n",
    "Copy and paste the code from the VA and figure out if it works.  If it doesn't, fix it\n",
    "        "
   ]
  },
  {
   "cell_type": "code",
   "execution_count": null,
   "id": "13b72fa3-0237-40a9-ad08-a3390e4bbbb1",
   "metadata": {},
   "outputs": [],
   "source": []
  },
  {
   "cell_type": "markdown",
   "id": "0e1f02c6-73f8-48e3-9faa-5efe8cd04471",
   "metadata": {},
   "source": [
    "Ask a VA, “Rewrite this statement with a single conditional.”\n",
    "\n",
    "if 0 < x:\n",
    "    if x < 10:\n",
    "        print('x is a positive single-digit number.')\n",
    "\n",
    "If this doesn't work, fix ti"
   ]
  },
  {
   "cell_type": "code",
   "execution_count": null,
   "id": "78904375-f93f-4fa4-a112-bb6ee78ab899",
   "metadata": {},
   "outputs": [],
   "source": []
  },
  {
   "cell_type": "markdown",
   "id": "0f44a983-208e-45fd-8b9d-8fa10c273cf9",
   "metadata": {},
   "source": [
    "Here’s an attempt at a recursive function that counts down by two.\n",
    "\n",
    "def countdown_by_two(n):\n",
    "    if n == 0:\n",
    "        print('Blastoff!')\n",
    "    else:\n",
    "        print(n)\n",
    "        countdown_by_two(n-2)"
   ]
  },
  {
   "cell_type": "code",
   "execution_count": null,
   "id": "6c1791d7-b0c9-4eb8-943e-66d473ef35be",
   "metadata": {},
   "outputs": [],
   "source": []
  },
  {
   "cell_type": "markdown",
   "id": "b530c808-697f-45d4-a5d4-c067b890b60d",
   "metadata": {},
   "source": [
    "# 5.14.3. Exercise\n",
    "\n",
    "If you are given three sticks, you may or may not be able to arrange them in a triangle. For example, if one of the sticks is 12 inches long and the other two are one inch long, you will not be able to get the short sticks to meet in the middle. For any three lengths, there is a test to see if it is possible to form a triangle:\n",
    "\n",
    "If any of the three lengths is greater than the sum of the other two, then you cannot form a triangle. Otherwise, you can. (If the sum of two lengths equals the third, they form what is called a “degenerate” triangle.)\n",
    "\n",
    "Write a function named is_triangle that takes three integers as arguments, and that prints either “Yes” or “No”, depending on whether you can or cannot form a triangle from sticks with the given lengths. Hint: Use a chained conditional."
   ]
  },
  {
   "cell_type": "code",
   "execution_count": null,
   "id": "90b6882c-d505-41fa-b07f-69e8dcae51ef",
   "metadata": {},
   "outputs": [],
   "source": []
  },
  {
   "cell_type": "code",
   "execution_count": null,
   "id": "13207c22-d186-4a0e-bbb8-ff5f0edcdf3e",
   "metadata": {},
   "outputs": [],
   "source": []
  },
  {
   "cell_type": "code",
   "execution_count": null,
   "id": "93477afa-381a-4fdd-99a3-f8950730eb2c",
   "metadata": {},
   "outputs": [],
   "source": []
  },
  {
   "cell_type": "code",
   "execution_count": null,
   "id": "b650fb6c-35e7-4e4c-8bcd-85a139d82904",
   "metadata": {},
   "outputs": [],
   "source": []
  },
  {
   "cell_type": "code",
   "execution_count": null,
   "id": "0c412032-3113-4108-a55e-66d3c2fd464f",
   "metadata": {},
   "outputs": [],
   "source": []
  }
 ],
 "metadata": {
  "kernelspec": {
   "display_name": "Python 3 (ipykernel)",
   "language": "python",
   "name": "python3"
  },
  "language_info": {
   "codemirror_mode": {
    "name": "ipython",
    "version": 3
   },
   "file_extension": ".py",
   "mimetype": "text/x-python",
   "name": "python",
   "nbconvert_exporter": "python",
   "pygments_lexer": "ipython3",
   "version": "3.9.21"
  }
 },
 "nbformat": 4,
 "nbformat_minor": 5
}
