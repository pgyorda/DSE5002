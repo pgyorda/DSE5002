{
 "cells": [
  {
   "cell_type": "markdown",
   "id": "f26615a3-8947-4f36-aaf8-97599d0b00d8",
   "metadata": {},
   "source": [
    "# Watermark\n",
    "\n",
    "Watermark is a plug-in or extesnion for Jupyter lab, rather than a library.   It will generate a listing in the notebook\n",
    "about the computer system in use and the version numbers of the environment that the code is run in.\n",
    "\n",
    "This is an easy way to document the conditions the code was written in.\n",
    "\n"
   ]
  },
  {
   "cell_type": "code",
   "execution_count": 3,
   "id": "ad6120bc-8ea7-4c4f-97fd-aa9848a9651f",
   "metadata": {},
   "outputs": [
    {
     "name": "stdout",
     "output_type": "stream",
     "text": [
      "Collecting watermark\n",
      "  Downloading watermark-2.5.0-py2.py3-none-any.whl.metadata (1.4 kB)\n",
      "Requirement already satisfied: ipython>=6.0 in c:\\users\\hdavi\\anaconda3\\lib\\site-packages (from watermark) (8.15.0)\n",
      "Requirement already satisfied: importlib-metadata>=1.4 in c:\\users\\hdavi\\anaconda3\\lib\\site-packages (from watermark) (8.5.0)\n",
      "Requirement already satisfied: setuptools in c:\\users\\hdavi\\anaconda3\\lib\\site-packages (from watermark) (75.8.0)\n",
      "Requirement already satisfied: zipp>=3.20 in c:\\users\\hdavi\\anaconda3\\lib\\site-packages (from importlib-metadata>=1.4->watermark) (3.21.0)\n",
      "Requirement already satisfied: backcall in c:\\users\\hdavi\\anaconda3\\lib\\site-packages (from ipython>=6.0->watermark) (0.2.0)\n",
      "Requirement already satisfied: decorator in c:\\users\\hdavi\\anaconda3\\lib\\site-packages (from ipython>=6.0->watermark) (5.1.1)\n",
      "Requirement already satisfied: jedi>=0.16 in c:\\users\\hdavi\\anaconda3\\lib\\site-packages (from ipython>=6.0->watermark) (0.19.2)\n",
      "Requirement already satisfied: matplotlib-inline in c:\\users\\hdavi\\anaconda3\\lib\\site-packages (from ipython>=6.0->watermark) (0.1.6)\n",
      "Requirement already satisfied: pickleshare in c:\\users\\hdavi\\anaconda3\\lib\\site-packages (from ipython>=6.0->watermark) (0.7.5)\n",
      "Requirement already satisfied: prompt-toolkit!=3.0.37,<3.1.0,>=3.0.30 in c:\\users\\hdavi\\anaconda3\\lib\\site-packages (from ipython>=6.0->watermark) (3.0.43)\n",
      "Requirement already satisfied: pygments>=2.4.0 in c:\\users\\hdavi\\anaconda3\\lib\\site-packages (from ipython>=6.0->watermark) (2.15.1)\n",
      "Requirement already satisfied: stack-data in c:\\users\\hdavi\\anaconda3\\lib\\site-packages (from ipython>=6.0->watermark) (0.2.0)\n",
      "Requirement already satisfied: traitlets>=5 in c:\\users\\hdavi\\anaconda3\\lib\\site-packages (from ipython>=6.0->watermark) (5.14.3)\n",
      "Requirement already satisfied: typing-extensions in c:\\users\\hdavi\\anaconda3\\lib\\site-packages (from ipython>=6.0->watermark) (4.12.2)\n",
      "Requirement already satisfied: exceptiongroup in c:\\users\\hdavi\\anaconda3\\lib\\site-packages (from ipython>=6.0->watermark) (1.2.0)\n",
      "Requirement already satisfied: colorama in c:\\users\\hdavi\\anaconda3\\lib\\site-packages (from ipython>=6.0->watermark) (0.4.6)\n",
      "Requirement already satisfied: parso<0.9.0,>=0.8.4 in c:\\users\\hdavi\\anaconda3\\lib\\site-packages (from jedi>=0.16->ipython>=6.0->watermark) (0.8.4)\n",
      "Requirement already satisfied: wcwidth in c:\\users\\hdavi\\anaconda3\\lib\\site-packages (from prompt-toolkit!=3.0.37,<3.1.0,>=3.0.30->ipython>=6.0->watermark) (0.2.5)\n",
      "Requirement already satisfied: executing in c:\\users\\hdavi\\anaconda3\\lib\\site-packages (from stack-data->ipython>=6.0->watermark) (0.8.3)\n",
      "Requirement already satisfied: asttokens in c:\\users\\hdavi\\anaconda3\\lib\\site-packages (from stack-data->ipython>=6.0->watermark) (2.0.5)\n",
      "Requirement already satisfied: pure-eval in c:\\users\\hdavi\\anaconda3\\lib\\site-packages (from stack-data->ipython>=6.0->watermark) (0.2.2)\n",
      "Requirement already satisfied: six in c:\\users\\hdavi\\anaconda3\\lib\\site-packages (from asttokens->stack-data->ipython>=6.0->watermark) (1.16.0)\n",
      "Downloading watermark-2.5.0-py2.py3-none-any.whl (7.7 kB)\n",
      "Installing collected packages: watermark\n",
      "Successfully installed watermark-2.5.0\n"
     ]
    }
   ],
   "source": [
    "# if you have never run watermark,  we will need to install the package\n",
    "# this needs to be done only once per enviroment\n",
    "\n",
    "#!pip install watermark"
   ]
  },
  {
   "cell_type": "code",
   "execution_count": 6,
   "id": "89d8d11b-9271-41a5-9784-53247003d325",
   "metadata": {},
   "outputs": [],
   "source": [
    "# package imports\n",
    "\n",
    "import pandas as pd\n",
    "import numpy as np\n",
    "import plotnine as p9\n"
   ]
  },
  {
   "cell_type": "code",
   "execution_count": 8,
   "id": "50b0f453-8109-4037-a462-eb4d2b5e6f7d",
   "metadata": {},
   "outputs": [],
   "source": [
    "# is is a jupyter notebook \"magic\" command, this is not a python or operating system command,  it is to the jupyter notebook\n",
    "# system.    Magic commands start with %, the command below loads the watermark extension into jupyterlab\n",
    "\n",
    "\n",
    "%load_ext watermark"
   ]
  },
  {
   "cell_type": "markdown",
   "id": "309700d2-4033-4dbc-a767-ec3965d4a080",
   "metadata": {},
   "source": [
    "For more on extensions see\n",
    "\n",
    "https://jupyterlab.readthedocs.io/en/stable/user/extensions.html"
   ]
  },
  {
   "cell_type": "code",
   "execution_count": 12,
   "id": "1dfc520e-407f-4244-8ca5-a120e391c916",
   "metadata": {},
   "outputs": [
    {
     "name": "stdout",
     "output_type": "stream",
     "text": [
      "Last updated: 2025-02-16T15:45:02.524235-05:00\n",
      "\n",
      "Python implementation: CPython\n",
      "Python version       : 3.9.21\n",
      "IPython version      : 8.15.0\n",
      "\n",
      "Compiler    : MSC v.1929 64 bit (AMD64)\n",
      "OS          : Windows\n",
      "Release     : 10\n",
      "Machine     : AMD64\n",
      "Processor   : Intel64 Family 6 Model 158 Stepping 13, GenuineIntel\n",
      "CPU cores   : 16\n",
      "Architecture: 64bit\n",
      "\n"
     ]
    }
   ],
   "source": [
    "# here is the watermark, I usually put these at the end\n",
    "\n",
    "%watermark "
   ]
  },
  {
   "cell_type": "code",
   "execution_count": 14,
   "id": "0aa2b0ea-3198-4ea6-9d0c-d3876175b175",
   "metadata": {},
   "outputs": [
    {
     "name": "stdout",
     "output_type": "stream",
     "text": [
      "pandas  : 2.2.3\n",
      "numpy   : 1.26.4\n",
      "plotnine: 0.13.6\n",
      "\n"
     ]
    }
   ],
   "source": [
    "# adding --packages package1,package2,package3,.....\n",
    "# will show the package versions as well for each specified package\n",
    "\n",
    "%watermark --packages pandas,numpy,plotnine"
   ]
  },
  {
   "cell_type": "code",
   "execution_count": null,
   "id": "67d42803-adfa-434c-9254-f06b4e1b4590",
   "metadata": {},
   "outputs": [],
   "source": []
  }
 ],
 "metadata": {
  "kernelspec": {
   "display_name": "Python 3 (ipykernel)",
   "language": "python",
   "name": "python3"
  },
  "language_info": {
   "codemirror_mode": {
    "name": "ipython",
    "version": 3
   },
   "file_extension": ".py",
   "mimetype": "text/x-python",
   "name": "python",
   "nbconvert_exporter": "python",
   "pygments_lexer": "ipython3",
   "version": "3.9.21"
  }
 },
 "nbformat": 4,
 "nbformat_minor": 5
}
